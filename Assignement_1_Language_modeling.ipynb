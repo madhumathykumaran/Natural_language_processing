{
 "cells": [
  {
   "cell_type": "markdown",
   "id": "dde60a33",
   "metadata": {},
   "source": [
    "# Preprocessing the data"
   ]
  },
  {
   "cell_type": "code",
   "execution_count": 40,
   "id": "ad7c8498",
   "metadata": {},
   "outputs": [],
   "source": [
    "import nltk\n",
    "\n",
    "SOS = \"<s> \"\n",
    "EOS = \"</s>\"\n",
    "UNK = \"<UNK>\"\n",
    "\n",
    "def add_sentence_tokens(sentences, n):\n",
    "    \n",
    "    sos = SOS * (n-1) if n > 1 else SOS\n",
    "    return ['{}{} {}'.format(sos, s, EOS) for s in sentences]\n",
    "\n",
    "def replace_singletons(tokens):\n",
    "   \n",
    "    vocab = nltk.FreqDist(tokens)\n",
    "    return [token if vocab[token] > 1 else UNK for token in tokens]\n",
    "\n",
    "def preprocess(sentences, n):\n",
    "    \"\"\"Add SOS/EOS/UNK tokens to given sentences and tokenize.\n",
    "\n",
    "    Args:\n",
    "        sentences (list of str): the sentences to preprocess.\n",
    "        n (int): order of the n-gram model which will use these sentences.\n",
    "    Returns:\n",
    "        The preprocessed sentences, tokenized by words.\n",
    "\n",
    "    \"\"\"\n",
    "    sentences = add_sentence_tokens(sentences, n)\n",
    "    tokens = ' '.join(sentences).split(' ')\n",
    "    tokens = replace_singletons(tokens)\n",
    "    return tokens"
   ]
  },
  {
   "cell_type": "markdown",
   "id": "783d0236",
   "metadata": {},
   "source": [
    "# Data Loading"
   ]
  },
  {
   "cell_type": "code",
   "execution_count": 57,
   "id": "2bc5f238",
   "metadata": {},
   "outputs": [],
   "source": [
    "from itertools import product\n",
    "import math\n",
    "import nltk\n",
    "from pathlib import Path\n",
    "\n",
    "def load_data(data_path):\n",
    "    \"\"\"Load data from the given data path.\n",
    "\n",
    "    Args:\n",
    "        data_path (Path) -- full path of the file to load data.\n",
    "\n",
    "    Returns:\n",
    "        Data sets, as lists of sentences.\n",
    "\n",
    "    \"\"\"\n",
    "\n",
    "    with open(data_path, 'r') as f:\n",
    "        data = [l.strip().split(\".\") for l in f.readlines()]    \n",
    "    res = sum(data, [])\n",
    "    res = list(filter(lambda x: x != \"\", res))\n",
    "    return res"
   ]
  },
  {
   "cell_type": "markdown",
   "id": "a40950e2",
   "metadata": {},
   "source": [
    "# Language modeling"
   ]
  },
  {
   "cell_type": "code",
   "execution_count": 20,
   "id": "d61e2d5f",
   "metadata": {},
   "outputs": [],
   "source": [
    "class LanguageModel(object):\n",
    "    \"\"\"An n-gram language model trained on a given corpus.\n",
    "    \n",
    "    For a given n and given training corpus, constructs an n-gram language\n",
    "    model for the corpus by:\n",
    "    1. preprocessing the corpus (adding SOS/EOS/UNK tokens)\n",
    "    2. calculating (smoothed) probabilities for each n-gram\n",
    "\n",
    "    Also contains methods for calculating the perplexity of the model\n",
    "    against another corpus, and for generating sentences.\n",
    "\n",
    "    Args:\n",
    "        train_data (list of str): list of sentences comprising the training corpus.\n",
    "        n (int): the order of language model to build (i.e. 1 for unigram, 2 for bigram, etc.).\n",
    "        laplace (int): lambda multiplier to use for laplace smoothing (default 1 for add-1 smoothing).\n",
    "\n",
    "    \"\"\"\n",
    "\n",
    "    def __init__(self, train_data, n, laplace=1):\n",
    "        self.n = n\n",
    "        self.laplace = laplace\n",
    "        self.tokens = preprocess(train_data, n)\n",
    "        self.vocab  = nltk.FreqDist(self.tokens)\n",
    "        self.model  = self._create_model()\n",
    "        self.masks  = list(reversed(list(product((0,1), repeat=n))))\n",
    "\n",
    "    def _smooth(self):\n",
    "        \"\"\"Apply Laplace smoothing to n-gram frequency distribution.\n",
    "        \n",
    "        Here, n_grams refers to the n-grams of the tokens in the training corpus,\n",
    "        while m_grams refers to the first (n-1) tokens of each n-gram.\n",
    "\n",
    "        Returns:\n",
    "            dict: Mapping of each n-gram (tuple of str) to its Laplace-smoothed \n",
    "            probability (float).\n",
    "\n",
    "        \"\"\"\n",
    "        vocab_size = len(self.vocab)\n",
    "\n",
    "        n_grams = nltk.ngrams(self.tokens, self.n)\n",
    "        n_vocab = nltk.FreqDist(n_grams)\n",
    "\n",
    "        m_grams = nltk.ngrams(self.tokens, self.n-1)\n",
    "        m_vocab = nltk.FreqDist(m_grams)\n",
    "\n",
    "        def smoothed_count(n_gram, n_count):\n",
    "            m_gram = n_gram[:-1]\n",
    "            m_count = m_vocab[m_gram]\n",
    "            return (n_count + self.laplace) / (m_count + self.laplace * vocab_size)\n",
    "\n",
    "        return { n_gram: smoothed_count(n_gram, count) for n_gram, count in n_vocab.items() }\n",
    "\n",
    "    def _create_model(self):\n",
    "        \"\"\"Create a probability distribution for the vocabulary of the training corpus.\n",
    "        \n",
    "        If building a unigram model, the probabilities are simple relative frequencies\n",
    "        of each token with the entire corpus.\n",
    "\n",
    "        Otherwise, the probabilities are Laplace-smoothed relative frequencies.\n",
    "\n",
    "        Returns:\n",
    "            A dict mapping each n-gram (tuple of str) to its probability (float).\n",
    "\n",
    "        \"\"\"\n",
    "        if self.n == 1:\n",
    "            num_tokens = len(self.tokens)\n",
    "            return { (unigram,): count / num_tokens for unigram, count in self.vocab.items() }\n",
    "        else:\n",
    "            return self._smooth()\n",
    "    "
   ]
  },
  {
   "cell_type": "code",
   "execution_count": 60,
   "id": "d4ef06c9",
   "metadata": {},
   "outputs": [
    {
     "data": {
      "text/plain": [
       "'We hold these truths to be self-evident, that all men are created equal, that they are endowed by their Creator with certain unalienable Rights, that among these are Life, Liberty and the pursuit of Happiness'"
      ]
     },
     "execution_count": 60,
     "metadata": {},
     "output_type": "execute_result"
    }
   ],
   "source": [
    "import nltk\n",
    "from nltk import word_tokenize, sent_tokenize\n",
    "# Load and prepare train/test data\n",
    "data_path = Path(\"/Users/Raj/Documents/NEU/NLP/Assignment1/lang_modelingdata.txt\")\n",
    "data = load_data(data_path)\n"
   ]
  },
  {
   "cell_type": "markdown",
   "id": "e347f8f3",
   "metadata": {},
   "source": [
    "# Unigram Model"
   ]
  },
  {
   "cell_type": "code",
   "execution_count": 61,
   "id": "f07f2af2",
   "metadata": {},
   "outputs": [
    {
     "name": "stdout",
     "output_type": "stream",
     "text": [
      "Number of sentences: 45\n",
      "Vocabulary size: 136\n",
      "Number of tokens : 1433\n"
     ]
    }
   ],
   "source": [
    "ngram_size = 1\n",
    "\n",
    "unigram_lm = LanguageModel(data, ngram_size, laplace=1)\n",
    "print(\"Number of sentences: {}\".format(len(data)))\n",
    "print(\"Vocabulary size: {}\".format(len(unigram_lm.vocab)))\n",
    "print(f\"Number of tokens : {len(unigram_lm.tokens)}\")\n"
   ]
  },
  {
   "cell_type": "markdown",
   "id": "5a98ab3a",
   "metadata": {},
   "source": [
    "# Bigram Model"
   ]
  },
  {
   "cell_type": "code",
   "execution_count": null,
   "id": "85349593",
   "metadata": {},
   "outputs": [],
   "source": [
    "ngram_size = 2\n",
    "\n",
    "lm = LanguageModel(data, ngram_size, laplace=1)\n",
    "print(\"Number of sentences: {}\".format(len(data)))\n",
    "print(\"Vocabulary size: {}\".format(len(lm.vocab)))\n",
    "print(f\"Number of tokens : {len(lm.tokens)}\")"
   ]
  },
  {
   "cell_type": "code",
   "execution_count": 65,
   "id": "ba36b2e2",
   "metadata": {},
   "outputs": [],
   "source": [
    "from nltk.corpus import stopwords\n",
    "stop_words = set(stopwords.words('english'))\n",
    "\n",
    "from nltk.util import ngrams\n",
    "unigram=[]\n",
    "tokenized_text = []\n",
    "bigram = []\n",
    "trigram = []\n",
    "fourgram = []\n",
    "for sentence in data:\n",
    "    sentence = sentence.lower()\n",
    "    sequence = word_tokenize(sentence) \n",
    "    for word in sequence:\n",
    "        if (word =='.'):\n",
    "            sequence.remove(word) \n",
    "        else:\n",
    "            unigram.append(word)\n",
    "            \n",
    "    tokenized_text.append(sequence) \n",
    "            \n",
    "    bigram.extend(list(ngrams(sequence, 2)))  \n",
    "#unigram, bigram, trigram, and fourgram models are created\n",
    "    trigram.extend(list(ngrams(sequence, 3)))\n",
    "    fourgram.extend(list(ngrams(sequence, 4)))"
   ]
  },
  {
   "cell_type": "code",
   "execution_count": 66,
   "id": "abfd7b32",
   "metadata": {},
   "outputs": [
    {
     "name": "stdout",
     "output_type": "stream",
     "text": [
      "Most common n-grams without stopword removal and without add-1 smoothing: \n",
      "\n",
      "Most common bigrams:  [((',', 'and'), 22), ((',', 'that'), 5), ((',', 'it'), 4), ((',', 'the'), 4), ((';', 'and'), 4)]\n",
      "\n",
      "Most common trigrams:  [((',', 'and', 'to'), 4), ((',', 'it', 'is'), 3), (('he', 'has', 'refused'), 3), (('his', 'assent', 'to'), 3), (('united', 'states', 'of'), 2)]\n",
      "\n",
      "Most common fourgrams:  [(('united', 'states', 'of', 'america'), 2), (('states', 'of', 'america', ','), 2), ((',', 'it', 'is', 'their'), 2), (('his', 'assent', 'to', 'laws'), 2), (('on', 'the', 'inhabitants', 'of'), 2)]\n"
     ]
    }
   ],
   "source": [
    "def removal(x):     \n",
    "#removes ngrams containing only stopwords\n",
    "    y = []\n",
    "    for pair in x:\n",
    "        count = 0\n",
    "        for word in pair:\n",
    "            if word in stop_words:\n",
    "                count = count or 0\n",
    "            else:\n",
    "                count = count or 1\n",
    "        if (count==1):\n",
    "            y.append(pair)\n",
    "    return(y)\n",
    "bigram = removal(bigram)\n",
    "trigram = removal(trigram)             \n",
    "fourgram = removal(fourgram)\n",
    "freq_bi = nltk.FreqDist(bigram)\n",
    "freq_tri = nltk.FreqDist(trigram)\n",
    "freq_four = nltk.FreqDist(fourgram)\n",
    "print(\"Most common n-grams without stopword removal and without add-1 smoothing: \\n\")\n",
    "print (\"Most common bigrams: \", freq_bi.most_common(5))\n",
    "print (\"\\nMost common trigrams: \", freq_tri.most_common(5))\n",
    "print (\"\\nMost common fourgrams: \", freq_four.most_common(5))"
   ]
  },
  {
   "cell_type": "code",
   "execution_count": 49,
   "id": "595acfc3",
   "metadata": {},
   "outputs": [
    {
     "name": "stdout",
     "output_type": "stream",
     "text": [
      "<s> He has refused his Assent to the most </s> (0.08694)\n",
      "<s>  We have been the most </s> (0.09970)\n",
      "<s> For transporting us in the most </s> (0.09117)\n",
      "<s> The history of the most </s> (0.09366)\n",
      "<s> We have been the most </s> (0.08855)\n",
      "<s> --That to the most </s> (0.09517)\n"
     ]
    }
   ],
   "source": [
    "# noofsentences = 2\n",
    "# print(\"Generating sentences...\")\n",
    "for sentence, prob in lm.generate_sentences(6):\n",
    "    print(\"{} ({:.5f})\".format(sentence, prob))"
   ]
  },
  {
   "cell_type": "code",
   "execution_count": 67,
   "id": "940eff38",
   "metadata": {},
   "outputs": [
    {
     "name": "stdout",
     "output_type": "stream",
     "text": [
      "Most common n-grams with stopword removal and without add-1 smoothing: \n",
      "\n",
      "Most common unigrams:  [(',', 105), ('us', 11), ('people', 10), (';', 10), ('laws', 9), (':', 9), ('states', 8), ('right', 7), ('government', 6), ('among', 5)]\n",
      "\n",
      "Most common bigrams:  [((',', 'right'), 5), (('government', ','), 4), (('usurpations', ','), 3), (('independent', 'states'), 3), (('united', 'states'), 2), (('states', 'america'), 2), (('america', ','), 2), (('rights', ','), 2), (('great', 'britain'), 2), (('assent', 'laws'), 2)]\n"
     ]
    }
   ],
   "source": [
    "#stopwords = code for downloading stop words through nltk\n",
    "from nltk.corpus import stopwords\n",
    "stop_words = set(stopwords.words('english'))\n",
    "#prints top 10 unigrams, bigrams after removing stopwords\n",
    "print(\"Most common n-grams with stopword removal and without add-1 smoothing: \\n\")\n",
    "unigram_sw_removed = [p for p in unigram if p not in stop_words]\n",
    "fdist = nltk.FreqDist(unigram_sw_removed)\n",
    "print(\"Most common unigrams: \", fdist.most_common(10))\n",
    "bigram_sw_removed = []\n",
    "bigram_sw_removed.extend(list(ngrams(unigram_sw_removed, 2)))\n",
    "fdist = nltk.FreqDist(bigram_sw_removed)\n",
    "print(\"\\nMost common bigrams: \", fdist.most_common(10))"
   ]
  },
  {
   "cell_type": "code",
   "execution_count": null,
   "id": "ac2ea632",
   "metadata": {},
   "outputs": [],
   "source": []
  }
 ],
 "metadata": {
  "kernelspec": {
   "display_name": "Python 3 (ipykernel)",
   "language": "python",
   "name": "python3"
  },
  "language_info": {
   "codemirror_mode": {
    "name": "ipython",
    "version": 3
   },
   "file_extension": ".py",
   "mimetype": "text/x-python",
   "name": "python",
   "nbconvert_exporter": "python",
   "pygments_lexer": "ipython3",
   "version": "3.11.1"
  }
 },
 "nbformat": 4,
 "nbformat_minor": 5
}
